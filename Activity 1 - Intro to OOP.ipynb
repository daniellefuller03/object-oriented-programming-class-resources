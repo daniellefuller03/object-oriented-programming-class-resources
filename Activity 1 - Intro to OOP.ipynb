{
 "cells": [
  {
   "cell_type": "markdown",
   "metadata": {},
   "source": [
    "# Module 1: Intro to OOP\n",
    "\n",
    "We'll discuss classes, objects, attributes and methods. Also how to initialize objects using the `__init__` method.\n",
    "\n",
    "<img src=\"https://html.com/wp-content/uploads/shapes.png\">"
   ]
  },
  {
   "cell_type": "markdown",
   "metadata": {},
   "source": [
    "### Quick summary of notebooks commands:\n",
    "\n",
    "* `ctrl+return`: Run current cell\n",
    "* `shift+return`: Run current cell and move focus to next one\n",
    "* `a`: Create a new cell above\n",
    "* `b`: Create a new cell below\n",
    "* `dd`: Delete current cell\n",
    "* `z`: Undo previous delete"
   ]
  },
  {
   "cell_type": "markdown",
   "metadata": {},
   "source": [
    "### Basics: Classes, objects and attributes"
   ]
  },
  {
   "cell_type": "markdown",
   "metadata": {},
   "source": [
    "##### Step 1\n",
    "Create two empty classes, Cirle and Square!"
   ]
  },
  {
   "cell_type": "code",
   "execution_count": 2,
   "metadata": {},
   "outputs": [],
   "source": [
    "class Circle:\n",
    "    pass\n",
    "class Square:\n",
    "    pass"
   ]
  },
  {
   "cell_type": "markdown",
   "metadata": {},
   "source": [
    "##### Step 2\n",
    "Create two instances of the class `Circle` (`c1` and `c2`). Assign an attribute `radius` to each one of them with values `1` and `0.5`."
   ]
  },
  {
   "cell_type": "code",
   "execution_count": 3,
   "metadata": {},
   "outputs": [],
   "source": [
    "c1 = Circle()\n",
    "c1.radius = 1\n",
    "\n",
    "c2 = Circle()\n",
    "c2.radius = 0.5"
   ]
  },
  {
   "cell_type": "markdown",
   "metadata": {},
   "source": [
    "##### Step 3\n",
    "Create two instances of the class `Square` (`s1` and `s2`). Assign an attribute `side` to each one of them with values `1` and `2`.\n",
    "\n",
    "_Hint: A circle's area is defined as `Pi * radius^2`_"
   ]
  },
  {
   "cell_type": "code",
   "execution_count": 4,
   "metadata": {},
   "outputs": [],
   "source": [
    "s1 = Square()\n",
    "s1.side = 1\n",
    "\n",
    "s2 = Square()\n",
    "s2.side = 2"
   ]
  },
  {
   "cell_type": "markdown",
   "metadata": {},
   "source": [
    "##### Step 4\n",
    "Compute the area of circles `c1` and `c2`"
   ]
  },
  {
   "cell_type": "code",
   "execution_count": 6,
   "metadata": {},
   "outputs": [
    {
     "name": "stdout",
     "output_type": "stream",
     "text": [
      "Area of C1: 3.14\n",
      "Area of C2: 0.785\n"
     ]
    }
   ],
   "source": [
    "area_c1 = 3.14 * (c1.radius ** 2)\n",
    "area_c2 = 3.14 * (c2.radius ** 2)\n",
    "print(\"Area of C1: {}\".format(area_c1))\n",
    "print(\"Area of C2: {}\".format(area_c2))"
   ]
  },
  {
   "cell_type": "markdown",
   "metadata": {},
   "source": [
    "##### Step 5\n",
    "Define a function `area_of_square` that receives a square and returns its area. Use the function `area_of_square` to compute the areas of both squares previously created."
   ]
  },
  {
   "cell_type": "code",
   "execution_count": 9,
   "metadata": {},
   "outputs": [
    {
     "name": "stdout",
     "output_type": "stream",
     "text": [
      "Area of S1: 1\n",
      "Area of S2: 4\n"
     ]
    }
   ],
   "source": [
    "def area_of_square(square):\n",
    "    return square ** 2\n",
    "\n",
    "print(\"Area of S1: {}\".format(area_of_square(s1.side)))\n",
    "print(\"Area of S2: {}\".format(area_of_square(s2.side)))"
   ]
  },
  {
   "cell_type": "markdown",
   "metadata": {},
   "source": [
    "##### Step 6\n",
    "Define now a more general `area()` function that receives an object and returns the correct area regardless of the object passed. If the object is invalid, it should raise a `ValueError` Exception."
   ]
  },
  {
   "cell_type": "code",
   "execution_count": null,
   "metadata": {},
   "outputs": [],
   "source": [
    "# Your code here\n",
    "\n",
    "print(\"Area of C1: {}\".format())\n",
    "print(\"Area of C2: {}\".format())\n",
    "print(\"Area of S1: {}\".format())\n",
    "print(\"Area of S2: {}\".format())"
   ]
  },
  {
   "cell_type": "markdown",
   "metadata": {},
   "source": [
    "### Methods"
   ]
  },
  {
   "cell_type": "markdown",
   "metadata": {},
   "source": [
    "##### Step 1\n",
    "Move the area functions into the individual class definitions (Circle/Square) to make them methods. Rename them to be only `area` for each class.\n",
    "\n",
    "Use them to compute the areas of the created objects.\n",
    "\n",
    "_**IMPORTANT**: You'll need to re-define the classes and re-create the instances_."
   ]
  },
  {
   "cell_type": "code",
   "execution_count": null,
   "metadata": {},
   "outputs": [],
   "source": [
    "# Your code here\n",
    "\n",
    "print(\"Area of C1: {}\".format())\n",
    "print(\"Area of C2: {}\".format())\n",
    "print(\"Area of S1: {}\".format())\n",
    "print(\"Area of S2: {}\".format())"
   ]
  },
  {
   "cell_type": "markdown",
   "metadata": {},
   "source": [
    "##### Step 2\n",
    "`a_square`, `a_circle` aren't great parameter names. Use Python's standard convention to refer to the individual instance objects.\n",
    "\n",
    "In the above Step 1 code, replace a_sqauare/a_circle with *self*."
   ]
  },
  {
   "cell_type": "markdown",
   "metadata": {},
   "source": [
    "##### Step 3\n",
    "\n",
    "Create the following functions:\n",
    "\n",
    "**`initialize_circle`:** Takes the radius and initializes the circle. Example:\n",
    "```python\n",
    "c = Circle()\n",
    "initialize(c, radius=1.5)\n",
    "c.radius  # 1.5\n",
    "```\n",
    "\n",
    "**`initialize_square`:** Takes the side and initializes the square. Example:\n",
    "```python\n",
    "s = Square()\n",
    "initialize(s, side=3)\n",
    "s.side  # 3\n",
    "```\n",
    "\n",
    "Re-create the objects `c1`, `c2`, `s1` and `s2` and initialize them using the functions.\n",
    "\n",
    "```python\n",
    "c1 = Circle()\n",
    "c2 = Circle()\n",
    "s1 = Square()\n",
    "s2 = Square()\n",
    "# Initialize them...\n",
    "```"
   ]
  },
  {
   "cell_type": "code",
   "execution_count": null,
   "metadata": {},
   "outputs": [],
   "source": [
    "# Your code here"
   ]
  },
  {
   "cell_type": "code",
   "execution_count": null,
   "metadata": {
    "scrolled": true
   },
   "outputs": [],
   "source": [
    "print(\"Area of C1: {}\".format())\n",
    "print(\"Area of C2: {}\".format())\n",
    "print(\"Area of S1: {}\".format())\n",
    "print(\"Area of S2: {}\".format())"
   ]
  },
  {
   "cell_type": "markdown",
   "metadata": {},
   "source": [
    "##### Step 4\n",
    "Turn the `initialize_*` methods into the `__init__` method of each class.\n",
    "\n",
    "_(You'll need to redefine the classes and recreate the instances)_"
   ]
  },
  {
   "cell_type": "code",
   "execution_count": null,
   "metadata": {},
   "outputs": [],
   "source": [
    "# Your code here"
   ]
  },
  {
   "cell_type": "code",
   "execution_count": null,
   "metadata": {},
   "outputs": [],
   "source": [
    "print(\"Area of C1: {}\".format())\n",
    "print(\"Area of C2: {}\".format())\n",
    "print(\"Area of S1: {}\".format())\n",
    "print(\"Area of S2: {}\".format())"
   ]
  }
 ],
 "metadata": {
  "kernelspec": {
   "display_name": "Python 3",
   "language": "python",
   "name": "python3"
  },
  "language_info": {
   "codemirror_mode": {
    "name": "ipython",
    "version": 3
   },
   "file_extension": ".py",
   "mimetype": "text/x-python",
   "name": "python",
   "nbconvert_exporter": "python",
   "pygments_lexer": "ipython3",
   "version": "3.6.8"
  }
 },
 "nbformat": 4,
 "nbformat_minor": 2
}
